{
 "cells": [
  {
   "cell_type": "markdown",
   "metadata": {},
   "source": [
    "# Particle Swarm Optimization"
   ]
  },
  {
   "cell_type": "markdown",
   "metadata": {},
   "source": [
    "### (using functions)"
   ]
  },
  {
   "cell_type": "code",
   "execution_count": 15,
   "metadata": {
    "collapsed": true
   },
   "outputs": [],
   "source": [
    "def pso(fitness_func, lbound, ubound, swarm_size=20, max_iter=40, dimensions=4, phip=1.494, phig=1.494, weight=0.5):"
   ]
  },
  {
   "cell_type": "code",
   "execution_count": 1,
   "metadata": {},
   "outputs": [
    {
     "ename": "NameError",
     "evalue": "name 'pd' is not defined",
     "output_type": "error",
     "traceback": [
      "\u001b[1;31m---------------------------------------------------------------------------\u001b[0m",
      "\u001b[1;31mNameError\u001b[0m                                 Traceback (most recent call last)",
      "\u001b[1;32m<ipython-input-1-8356b5dab757>\u001b[0m in \u001b[0;36m<module>\u001b[1;34m()\u001b[0m\n\u001b[0;32m      2\u001b[0m \u001b[1;31m# weights is the list of weights that are to be calculated by PSO\u001b[0m\u001b[1;33m\u001b[0m\u001b[1;33m\u001b[0m\u001b[0m\n\u001b[0;32m      3\u001b[0m \u001b[1;31m# 'user' is the user for which we want to predict the weights\u001b[0m\u001b[1;33m\u001b[0m\u001b[1;33m\u001b[0m\u001b[0m\n\u001b[1;32m----> 4\u001b[1;33m \u001b[0muser\u001b[0m \u001b[1;33m=\u001b[0m \u001b[0mpd\u001b[0m\u001b[1;33m.\u001b[0m\u001b[0mDataFrame\u001b[0m\u001b[1;33m(\u001b[0m\u001b[1;33m)\u001b[0m\u001b[1;33m\u001b[0m\u001b[0m\n\u001b[0m\u001b[0;32m      5\u001b[0m \u001b[1;32mdef\u001b[0m \u001b[0mfitness_func\u001b[0m\u001b[1;33m(\u001b[0m\u001b[0mweights\u001b[0m\u001b[1;33m)\u001b[0m\u001b[1;33m:\u001b[0m\u001b[1;33m\u001b[0m\u001b[0m\n\u001b[0;32m      6\u001b[0m     \u001b[0mw1\u001b[0m \u001b[1;33m=\u001b[0m \u001b[0mweights\u001b[0m\u001b[1;33m[\u001b[0m\u001b[1;36m0\u001b[0m\u001b[1;33m]\u001b[0m\u001b[1;33m\u001b[0m\u001b[0m\n",
      "\u001b[1;31mNameError\u001b[0m: name 'pd' is not defined"
     ]
    }
   ],
   "source": [
    "# defining the fitness funcion to be optimised by pso\n",
    "# weights is the list of weights that are to be calculated by PSO\n",
    "# 'user' is the user for which we want to predict the weights\n",
    "user = pd.DataFrame()\n",
    "def fitness_func(weights):\n",
    "    w1 = weights[0]\n",
    "    w2 = weights[1]\n",
    "    w3 = weights[2]\n",
    "    w4 = weights[3]\n",
    "    w_sum = w1+w2+w3+w4\n",
    "    w1 = w1/w_sum\n",
    "    w2 = w2/w_sum\n",
    "    w3 = w3/w_sum\n",
    "    w4 = w4/w_sum\n",
    "    ans = 0\n",
    "    for index, row in user.iterrows():\n",
    "        ans += abs((w1*row.criterion1 + w2*row.criterion2 + w3*row.criterion3 + w4*row.criterion4) - row.overall)\n",
    "    ans /= len(user.movie_id.unique())\n",
    "#     print(len(user.movie_id.unique()))\n",
    "#     ans = math.sqrt(ans)\n",
    "    return ans\n",
    "# math.sqrt(10)"
   ]
  },
  {
   "cell_type": "code",
   "execution_count": null,
   "metadata": {
    "collapsed": true
   },
   "outputs": [],
   "source": [
    "# function for predicting the label according to our weights got using pso\n",
    "def predict_pso(xopt, test):\n",
    "    predicted_list = list()\n",
    "    w1 = xopt[0]\n",
    "    w2 = xopt[1]\n",
    "    w3 = xopt[2]\n",
    "    w4 = xopt[3]\n",
    "    w_sum = w1+w2+w3+w4\n",
    "    w1 = w1/w_sum\n",
    "    w2 = w2/w_sum\n",
    "    w3 = w3/w_sum\n",
    "    w4 = w4/w_sum\n",
    "    for index, row in test.iterrows():\n",
    "        prediction = (w1*row.criterion1 + w2*row.criterion2 + w3*row.criterion3 + w4*row.criterion4)\n",
    "        predicted_list.append(prediction)\n",
    "    return predicted_list"
   ]
  },
  {
   "cell_type": "code",
   "execution_count": null,
   "metadata": {
    "collapsed": true
   },
   "outputs": [],
   "source": [
    "# Anubhav's implementation of PSO\n",
    "# def pso(fitness_func, lbound, ubound, swarm_size=40, max_iter=70, dimensions=4, phip=1.494, phig=1.494, weight=0.5):\n",
    "\n",
    "#checking and defining weight inside the function; a random number between 0.5 and 1\n",
    "def pso(fitness_func, lbound, ubound, swarm_size=40, max_iter=50, dimensions=4, phip=1.494, phig=1.494):\n",
    "    x=[]            # positon of each particle\n",
    "    x_pbest=[]      # best position of each particle \n",
    "    x_gbest=[]      # best global position of population\n",
    "    v=[]            # velocity of each particle\n",
    "    v_min=[]\n",
    "    v_max=[]\n",
    "    \n",
    "    # assign initial random positions to the particles\n",
    "    for i in range(swarm_size):\n",
    "        x.append([])\n",
    "        x_pbest.append([])\n",
    "        for j in range(dimensions):\n",
    "            x[i].append(random.uniform(lbound[j],ubound[j]))\n",
    "            x_pbest[i].append(x[i][j])\n",
    "            \n",
    "    #calculate initial group best of the population\n",
    "    for i in range(swarm_size):\n",
    "        if i==0:\n",
    "            x_gbest=x[i]\n",
    "        elif fitness_func(x[i])<fitness_func(x_gbest):\n",
    "            x_gbest=x[i]\n",
    "\n",
    "    \n",
    "    # calculate minimum and maximum boundaries of velocity vector\n",
    "    for i in range(dimensions):\n",
    "        v_min.append(-(ubound[i]-lbound[i])/100)\n",
    "        v_max.append((ubound[i]-lbound[i])/100)\n",
    " \n",
    "    # assign initial random velocities to the particles\n",
    "    for i in range(swarm_size):\n",
    "        v.append([])\n",
    "        for j in range(dimensions):\n",
    "            v[i].append(random.uniform(v_min[j],v_max[j]))\n",
    "            \n",
    "    for iter in range(max_iter):\n",
    "        for i in range(swarm_size):\n",
    "            for j in range(dimensions):\n",
    "                r1=random.uniform(0,1)\n",
    "                r2=random.uniform(0,1)\n",
    "                weight = random.uniform(0.5, 1)\n",
    "                # calculate new velocity for each particle\n",
    "                v[i][j] = weight*(v[i][j]) + r1*phip*(x_pbest[i][j]-x[i][j]) + r2*phig*(x_gbest[j]-x[i][j])\n",
    "                \n",
    "                if v[i][j] > v_max[j]:\n",
    "                    v[i][j] = v_max[j]\n",
    "                \n",
    "                if v[i][j] < v_min[j]:\n",
    "                    v[i][j] = v_min[j]\n",
    "\n",
    "\n",
    "                # Kumud's code\n",
    "                #checking the limit of velocity, if goes beyond then sack it\n",
    "#                 if v[i][j] > v_max:\n",
    "#                     vel[i][j] = (vel_max / abs(vel[i][j])*vel[i][j])\n",
    "                                 \n",
    "                # calculate new position for each particle\n",
    "                x[i][j] = x[i][j] + v[i][j]\n",
    "                \n",
    "                if x[i][j] > ubound[j]:\n",
    "                    x[i][j] = ubound[j]\n",
    "                    \n",
    "                if x[i][j] < lbound[j]:\n",
    "                    x[i][j] = lbound[j]\n",
    "            \n",
    "            if fitness_func(x[i]) < fitness_func(x_pbest[i]):\n",
    "                x_pbest[i] = x[i]\n",
    "                \n",
    "            if fitness_func(x[i]) < fitness_func(x_gbest):\n",
    "                x_gbest = x[i]\n",
    "                \n",
    "    return x_gbest,fitness_func(x_gbest)"
   ]
  },
  {
   "cell_type": "code",
   "execution_count": null,
   "metadata": {
    "collapsed": true
   },
   "outputs": [],
   "source": [
    "# applying the particle-swarm-optimization\n",
    "# xopt = the optimal input values\n",
    "# fopt = the optimal objective value\n",
    "df = list_datasets[0]\n",
    "user_list = df.groupby(['user_id'])\n",
    "lower_bound = [0, 0, 0, 0]\n",
    "upper_bound = [100, 100, 100, 100]\n",
    "mae = 0\n",
    "count = 0\n",
    "for index, item in user_list:\n",
    "    # split item in train and test data\n",
    "    train, test = train_test_split(item, test_size = 0.3, random_state = 1601)\n",
    "    user = train\n",
    "    # library implemenatation\n",
    "#     xopt, fopt = pyswarm.pso(fitness_func, lower_bound, upper_bound)\n",
    "    # Anubhav's implementation\n",
    "    xopt, fopt = pso(fitness_func, lower_bound, upper_bound)\n",
    "    print(xopt)\n",
    "    print(fopt)\n",
    "    # predict the values on the test dataset\n",
    "    predicted_list = predict_pso(xopt, test)\n",
    "#     print(\"test shape \", test.shape[0])\n",
    "    # calculate the mean average error\n",
    "#     print(\"checking --> \",test.overall.shape[1])\n",
    "#     print(\"debug = \",len(predicted_list))\n",
    "#     print(\"debug = \", len(test.overall))\n",
    "    error = metrics.mean_absolute_error(test.overall.tolist(), predicted_list)\n",
    "    accuracy = metrics.r2_score(test.overall.tolist(), predicted_list)\n",
    "    print(\"mae = \",error)\n",
    "    mae += error\n",
    "#     count += 1\n",
    "#     if(count==20):\n",
    "#         break\n",
    "print(\"average of mean average error: \", mae/len(user_list))"
   ]
  }
 ],
 "metadata": {
  "kernelspec": {
   "display_name": "Python 3",
   "language": "python",
   "name": "python3"
  },
  "language_info": {
   "codemirror_mode": {
    "name": "ipython",
    "version": 3
   },
   "file_extension": ".py",
   "mimetype": "text/x-python",
   "name": "python",
   "nbconvert_exporter": "python",
   "pygments_lexer": "ipython3",
   "version": "3.6.3"
  }
 },
 "nbformat": 4,
 "nbformat_minor": 2
}
