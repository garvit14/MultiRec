{
 "cells": [
  {
   "cell_type": "code",
   "execution_count": 5,
   "metadata": {
    "collapsed": true,
    "scrolled": true
   },
   "outputs": [],
   "source": [
    "import pandas as pd\n",
    "import math\n",
    "import numpy as np\n",
    "import math\n",
    "from sklearn.cross_validation import train_test_split # to split the dataset for training and testing\n",
    "from sklearn.preprocessing import normalize # to normalize a matrix\n",
    "from sklearn.decomposition import PCA\n",
    "from scipy import linalg"
   ]
  },
  {
   "cell_type": "code",
   "execution_count": 6,
   "metadata": {},
   "outputs": [
    {
     "name": "stdout",
     "output_type": "stream",
     "text": [
      "13\n"
     ]
    }
   ],
   "source": [
    "# getting the ratings data in pandas dataframe\n",
    "ratings = pd.read_csv('../Yahoo_movies_multi-criteria/data_movies.txt', sep='\\t',names=['user_id', 'criterion1', 'criterion2', 'criterion3', 'criterion4', 'overall', 'movie_id', 'num'])\n",
    "print(max(ratings.overall)) # implies that ratings are on a scale of 13\n",
    "# train, test = sample_split(ratings)\n",
    "# print(pd.Series.sort_values(ratings.movie_id).unique())"
   ]
  },
  {
   "cell_type": "code",
   "execution_count": 11,
   "metadata": {},
   "outputs": [
    {
     "data": {
      "text/plain": [
       "0.8055555555555555"
      ]
     },
     "execution_count": 11,
     "metadata": {},
     "output_type": "execute_result"
    }
   ],
   "source": [
    "#funtion to calculate average precision (ERROR AND EVALUATION)\n",
    "def average_precision(pred_ratings, criteria):\n",
    "    good = 0\n",
    "    total = 0\n",
    "    avg_prec = 0\n",
    "    \n",
    "    for rating in pred_ratings:\n",
    "        total += 1\n",
    "        if(rating > criteria):\n",
    "            good += 1\n",
    "            avg_prec += good / total\n",
    "            \n",
    "    avg_prec /= good\n",
    "    return avg_prec\n",
    "\n",
    "temp = [10, 2, 13, 8, 1]\n",
    "average_precision(temp, 7)"
   ]
  },
  {
   "cell_type": "code",
   "execution_count": 12,
   "metadata": {
    "collapsed": true
   },
   "outputs": [],
   "source": [
    "def mean_average_precision(df_predicted, criteria):\n",
    "    MAP = 0\n",
    "    df_group = dataFrame.groupby('user_id')\n",
    "    \n",
    "    for key, item in df_group:\n",
    "        MAP += average_precision(item.pred_rating, criteria)\n",
    "        \n",
    "    MAP /= len(df_group)\n",
    "    \n",
    "    return MAP"
   ]
  }
 ],
 "metadata": {
  "kernelspec": {
   "display_name": "Python 3",
   "language": "python",
   "name": "python3"
  },
  "language_info": {
   "codemirror_mode": {
    "name": "ipython",
    "version": 3
   },
   "file_extension": ".py",
   "mimetype": "text/x-python",
   "name": "python",
   "nbconvert_exporter": "python",
   "pygments_lexer": "ipython3",
   "version": "3.6.2"
  }
 },
 "nbformat": 4,
 "nbformat_minor": 2
}
