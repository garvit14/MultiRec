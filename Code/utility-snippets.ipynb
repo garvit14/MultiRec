{
 "cells": [
  {
   "cell_type": "code",
   "execution_count": 37,
   "metadata": {},
   "outputs": [
    {
     "name": "stdout",
     "output_type": "stream",
     "text": [
      "[[10, 6, 9], [3, 4, 5], [6, 7, 3]]\n",
      "[[4, 3, 8], [6, 7, 2], [8, 4, 6]]\n",
      "[4, 5, 6] [4, 5, 6]\n",
      "[5, 6, 7] [3, -5]\n"
     ]
    }
   ],
   "source": [
    "import random\n",
    "\n",
    "#comprehensive method to generate a matrice with random numbers\n",
    "mat=[[random.randint(i,i+10) for i in range(3)] for j in range(3)]\n",
    "print(mat)\n",
    "\n",
    "#simple method to generate a matrice with random numbers\n",
    "for i in range(3):\n",
    "    for j in range(3):\n",
    "        rand_num = random.randint(1,10)\n",
    "        mat[i][j]=rand_num\n",
    "#         print(mat[i][j])\n",
    "print(mat)\n",
    "\n",
    "\n",
    "# List copy\n",
    "a=[1,2,3]\n",
    "b=[4,5,6]\n",
    "a=b\n",
    "print(a,b) #copies list b in a\n",
    "a=[5,6,7]\n",
    "b=[3,-5]\n",
    "print(a,b)\n"
   ]
  },
  {
   "cell_type": "code",
   "execution_count": null,
   "metadata": {},
   "outputs": [],
   "source": []
  }
 ],
 "metadata": {
  "kernelspec": {
   "display_name": "Python 3",
   "language": "python",
   "name": "python3"
  },
  "language_info": {
   "codemirror_mode": {
    "name": "ipython",
    "version": 3
   },
   "file_extension": ".py",
   "mimetype": "text/x-python",
   "name": "python",
   "nbconvert_exporter": "python",
   "pygments_lexer": "ipython3",
   "version": "3.6.4"
  }
 },
 "nbformat": 4,
 "nbformat_minor": 2
}
