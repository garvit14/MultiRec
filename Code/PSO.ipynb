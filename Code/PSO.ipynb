{
 "cells": [
  {
   "cell_type": "markdown",
   "metadata": {},
   "source": [
    "# Particle Swarm Optimization"
   ]
  },
  {
   "cell_type": "markdown",
   "metadata": {},
   "source": [
    "### (using functions)"
   ]
  },
  {
   "cell_type": "code",
   "execution_count": 15,
   "metadata": {
    "collapsed": true
   },
   "outputs": [],
   "source": [
    "import pyswarm as ps"
   ]
  },
  {
   "cell_type": "code",
   "execution_count": 13,
   "metadata": {},
   "outputs": [],
   "source": [
    "#particle swarm optimization function\n",
    "def ps_o(fitness, lb, ub, swarm_size, max_it, dimensions):\n",
    "    x = []\n",
    "    x_pbest = []\n",
    "    x_gbest = []\n",
    "    vel = []\n",
    "    \n",
    "    #assign random values as initial position of the particles\n",
    "    for i in range(swarm_size):\n",
    "        x.append([])\n",
    "        x_pbest.append([])\n",
    "        for j in range(dimensions):\n",
    "            x[i].append(random.uniform(lb[j], ub[j]+1))\n",
    "            x_pbest[i].append[x[i]]\n",
    "    \n",
    "    #find initial group best of the population\n",
    "    for i in range(swarm_size):\n",
    "        if i == 1:\n",
    "            x_gbest = x[i]\n",
    "        elif fitness(x[i]) < fitness(x_gbest[i])\n",
    "            x_gbest[i] = x[i]\n",
    "    \n",
    "    #assigning v_min and v_max\n",
    "    vel_min = []\n",
    "    vel_max = []\n",
    "    for i in range(dimensions):\n",
    "        vel_min[i] = -(ub[i] - lb[i])/2\n",
    "        vel_max[i] = (ub[i] - lb[i])/2\n",
    "        \n",
    "    #assigning random values in the range (v_min[i], v_max[i]) as initial velocities of the particles\n",
    "    for i in range(swarm_size):\n",
    "        vel.append()\n",
    "        for j in range(dimensions):\n",
    "            vel[i].append(random.randint(vel_min[j], vel_max[j]))\n",
    "            \n",
    "    #c1 and c2 are spring constants are set to 1.494\n",
    "    #r1 and r2 are random numbers between 0 and 1\n",
    "    r1 = random.uniform(0,1)\n",
    "    r2 = random.uniform(0,1)\n",
    "            \n",
    "    #optimization function - main task of optimizing the position & velocities of the particles\n",
    "    for iter in range(max_it):\n",
    "        for i in range(swarm_size):\n",
    "            for j in range(dimensions):\n",
    "                #finding velocity of the particle\n",
    "                vel[i][j] = weight*v[i][j] + r1*c1(x_pbest[i][j] - x[i][j]) + r2*c2(x_gbest[j] - x[i][j])\n",
    "                \n",
    "                #checking the limit of velocity, if goes beyond then sack it\n",
    "                if v[i][j] > v_max:\n",
    "                    vel[i][j] = (vel_max / abs(vel[i][j])*vel[i][j]\n",
    "                \n",
    "                #finding the position of the particles\n",
    "                x[i][j] = x[i][j] + v[i][j]\n",
    "                \n",
    "                #checking constraints on the position\n",
    "                if x[i][j] < lb[j]:\n",
    "                    x[i][j] = lb[j]\n",
    "                if x[i][j] > ub[j]:\n",
    "                    x[i][j] = ub[j]\n",
    "                \n",
    "                if fitness(x[i]) < fitness(x_pbest[i]):\n",
    "                    x_pbest[i] = x[i]\n",
    "                if fitness(x[i]) < fitness(x_gbest)\n",
    "                    x_gbest = x[i]\n",
    "                \n",
    "    return x_gbest, fitness(x_gbest)"
   ]
  }
 ],
 "metadata": {
  "kernelspec": {
   "display_name": "Python 3",
   "language": "python",
   "name": "python3"
  },
  "language_info": {
   "codemirror_mode": {
    "name": "ipython",
    "version": 3
   },
   "file_extension": ".py",
   "mimetype": "text/x-python",
   "name": "python",
   "nbconvert_exporter": "python",
   "pygments_lexer": "ipython3",
   "version": "3.6.3"
  }
 },
 "nbformat": 4,
 "nbformat_minor": 2
}
