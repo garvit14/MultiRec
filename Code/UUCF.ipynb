{
 "cells": [
  {
   "cell_type": "code",
   "execution_count": 3,
   "metadata": {},
   "outputs": [],
   "source": [
    "import pandas as pd\n",
    "import math\n",
    "import numpy as np"
   ]
  },
  {
   "cell_type": "code",
   "execution_count": null,
   "metadata": {
    "collapsed": true,
    "scrolled": true
   },
   "outputs": [],
   "source": [
    "# rating = pd.read_csv('ydata-ymovies-user-movie-ratings-train-v1_0.txt', sep='\\t',names=['user_id', 'movie_id', 'rating(1-13)','rating(1-5)'], encoding='latin-1');\n",
    "# movie_content = pd.read_csv('movie_db_yoda', sep='[\\t]',engine='python' ,names=['movie_id','title','synopsis','run_time','MPAA_rating','reason_for_MPAA_rating','release_date','distributor','poster_URL','genres','directors','director_ids','crew_members','crew_ids','types_of_crew','actors','actor_ids','critic_rating','number_of_critic_ratings','number_of_awards_won','number_of_awards_nominated','list_of_awards_won','list_of_awards_nominated','Movie_Mom_rating','Movie_Mom_review','review_summaries','review_owners','captions','url_greg_preview','url_dvd_review','GNPP','average_rating','rating_users'], encoding='latin-1')\n",
    "# rating\n",
    "# movie_content\n",
    "# shashanksi2009@\n",
    "# print(movie_content.iloc[[62]])\n",
    "# len(['movie_id','title','synopsis','run_time','MPAA_rating','reason_for_MPAA_rating','release_date','distributor','poster_URL','genres','directors','director_ids','crew_members','crew_ids','types_of_crew','actors','actor_ids','critic_rating','number_of_critic_ratings','number_of_awards_won','number_of_awards_nominated','list_of_awards_won','list_of_awards_nominated','Movie_Mom_rating','Movie_Mom_review','review_summaries','review_owners','captions','url_greg_preview','url_dvd_review','GNPP','average_rating','rating_users'])"
   ]
  },
  {
   "cell_type": "code",
   "execution_count": 4,
   "metadata": {},
   "outputs": [
    {
     "name": "stdout",
     "output_type": "stream",
     "text": [
      "users -  7642\n",
      "items -  11916\n",
      "ratings -  211231\n"
     ]
    },
    {
     "data": {
      "text/plain": [
       "10"
      ]
     },
     "execution_count": 4,
     "metadata": {},
     "output_type": "execute_result"
    }
   ],
   "source": [
    "# getting the ratings data in pandas dataframe\n",
    "ratings = pd.read_csv('../Yahoo movies/ydata-ymovies-user-movie-ratings-train-v1_0.txt', sep='\\t',names=['user_id', 'movie_id', 'rating_13', 'rating_5'])\n",
    "num_users=ratings['user_id'].value_counts().size # number of users\n",
    "# ratings['user_id'].drop_duplicates().count()\n",
    "num_items=ratings['movie_id'].value_counts().size # number of items\n",
    "print('users - ',num_users)\n",
    "print('items - ',num_items)\n",
    "print('ratings - ',ratings.shape[0])  # number of  items\n",
    "# average number of ratings per-user\n",
    "ratings.groupby(['user_id'])['rating_13'].count().sum()/num_users\n",
    "#average number of ratings per-item\n",
    "ratings.groupby(['movie_id'])['rating_13'].count().sum()/num_items\n",
    "# minimum number of movies rated by any user\n",
    "min(ratings.groupby(['user_id'])['rating_13'].count())\n",
    "# ratings\n"
   ]
  },
  {
   "cell_type": "markdown",
   "metadata": {},
   "source": [
    "## Popularity Model"
   ]
  },
  {
   "cell_type": "code",
   "execution_count": 5,
   "metadata": {
    "collapsed": true
   },
   "outputs": [],
   "source": [
    "# computing the most popular movies\n",
    "# This is not actually needed for below function to work\n",
    "movie_popularity_df = ratings.groupby('movie_id')['rating_5'].sum().sort_values(ascending=False).reset_index()\n",
    "# movie_popularity_df"
   ]
  },
  {
   "cell_type": "code",
   "execution_count": 103,
   "metadata": {
    "collapsed": true
   },
   "outputs": [],
   "source": [
    "# cell for rough workuser1]\n",
    "# ratings.groupby('user_id')['movie_id'].count()"
   ]
  },
  {
   "cell_type": "code",
   "execution_count": 6,
   "metadata": {
    "collapsed": true
   },
   "outputs": [],
   "source": [
    "class PopularityRecommender:\n",
    "    \n",
    "    # constructor\n",
    "    def __init__(self, popularity_df, movies_df=None):\n",
    "        self.popularity_df = popularity_df\n",
    "        self.movies_df = movies_df\n",
    "    \n",
    "    # function to recommend items\n",
    "    def recommend_items(self, user_id, movies_to_ignore=[], topn=10):\n",
    "        recommended_df = self.popularity_df[~self.popularity_df['movie_id'].isin(movies_to_ignore)]\\\n",
    "        .sort_values('rating_5',ascending=False)\\\n",
    "        .head(topn)\n",
    "        return recommended_df\n",
    "    "
   ]
  },
  {
   "cell_type": "code",
   "execution_count": 7,
   "metadata": {},
   "outputs": [
    {
     "data": {
      "text/html": [
       "<div>\n",
       "<style>\n",
       "    .dataframe thead tr:only-child th {\n",
       "        text-align: right;\n",
       "    }\n",
       "\n",
       "    .dataframe thead th {\n",
       "        text-align: left;\n",
       "    }\n",
       "\n",
       "    .dataframe tbody tr th {\n",
       "        vertical-align: top;\n",
       "    }\n",
       "</style>\n",
       "<table border=\"1\" class=\"dataframe\">\n",
       "  <thead>\n",
       "    <tr style=\"text-align: right;\">\n",
       "      <th></th>\n",
       "      <th>movie_id</th>\n",
       "      <th>rating_5</th>\n",
       "    </tr>\n",
       "  </thead>\n",
       "  <tbody>\n",
       "    <tr>\n",
       "      <th>1</th>\n",
       "      <td>1808405428</td>\n",
       "      <td>14092</td>\n",
       "    </tr>\n",
       "    <tr>\n",
       "      <th>3</th>\n",
       "      <td>1807428853</td>\n",
       "      <td>11862</td>\n",
       "    </tr>\n",
       "    <tr>\n",
       "      <th>6</th>\n",
       "      <td>1807432594</td>\n",
       "      <td>8940</td>\n",
       "    </tr>\n",
       "    <tr>\n",
       "      <th>7</th>\n",
       "      <td>1808403030</td>\n",
       "      <td>8241</td>\n",
       "    </tr>\n",
       "    <tr>\n",
       "      <th>8</th>\n",
       "      <td>1807592188</td>\n",
       "      <td>7603</td>\n",
       "    </tr>\n",
       "  </tbody>\n",
       "</table>\n",
       "</div>"
      ],
      "text/plain": [
       "     movie_id  rating_5\n",
       "1  1808405428     14092\n",
       "3  1807428853     11862\n",
       "6  1807432594      8940\n",
       "7  1808403030      8241\n",
       "8  1807592188      7603"
      ]
     },
     "execution_count": 7,
     "metadata": {},
     "output_type": "execute_result"
    }
   ],
   "source": [
    "popularity_model = PopularityRecommender(movie_popularity_df)\n",
    "user_id = 1\n",
    "# print(ratings.shape)\n",
    "# movies rated by the user i.e. movies to ignore\n",
    "rated_movies = ratings[ratings['user_id']==user_id].movie_id\n",
    "recommended_df = popularity_model.recommend_items(user_id, rated_movies, 5)\n",
    "recommended_df"
   ]
  },
  {
   "cell_type": "markdown",
   "metadata": {},
   "source": [
    "## Collaborative Filtering Model (user-user)"
   ]
  },
  {
   "cell_type": "code",
   "execution_count": 8,
   "metadata": {
    "collapsed": true
   },
   "outputs": [],
   "source": [
    "# compute similarity between two users based on euclidean distance\n",
    "def euclidean_similarity(user1, user2):\n",
    "    # find all the movies that are rated by both the users\n",
    "    user1_movies = ratings[ratings['user_id']==user1]\n",
    "    user2_movies = ratings[ratings['user_id']==user2]\n",
    "    similar_movies_df = pd.merge(user1_movies, user2_movies, how='inner', on=['movie_id'])\n",
    "    similar_movies_df = similar_movies_df[['movie_id', 'rating_5_x','rating_5_y']]\n",
    "#     print(similar_movies_df)\n",
    "    temp_df = (similar_movies_df['rating_5_x'] - similar_movies_df['rating_5_y'])**2\n",
    "    return 1/(1+sum(temp_df))"
   ]
  },
  {
   "cell_type": "code",
   "execution_count": 9,
   "metadata": {
    "collapsed": true
   },
   "outputs": [],
   "source": [
    "# to compute similarity between two users based on pearson correlation formula\n",
    "# it is not used in the implementation below\n",
    "# python has an inbuilt function corr() for finding correlations between two vectors\n",
    "def pearson_similarity(user1, user2):\n",
    "    # find all movies that are rated by both the users\n",
    "    user1_movies = ratings[ratings['user_id']==user1]\n",
    "    user2_movies = ratings[ratings['user_id']==user2]\n",
    "    similar_movies_df = pd.merge(user1_movies, user2_movies, how='inner', on=['movie_id'])\n",
    "    similar_movies_df = similar_movies_df[['movie_id', 'rating_5_x','rating_5_y']]\n",
    "    \n",
    "    if(similar_movies_df.shape[0]==0): # no similar movie between the two users\n",
    "        return 0\n",
    "#     print(similar_movies_df)\n",
    "    avg1 = sum(similar_movies_df['rating_5_x'])/similar_movies_df.shape[0]\n",
    "    avg2 = sum(similar_movies_df['rating_5_y'])/similar_movies_df.shape[0]\n",
    "    # apply the pearson correlation formula\n",
    "    temp1 = (similar_movies_df['rating_5_x']-avg1)\n",
    "    temp2 = (similar_movies_df['rating_5_y']-avg2)\n",
    "    num = sum(temp1.multiply(temp2))\n",
    "    den = (sum(temp1**2))**0.5 * (sum(temp2**2))**0.5\n",
    "    return num/den\n",
    "    \n",
    "# pearson_similarity(6,2)"
   ]
  },
  {
   "cell_type": "code",
   "execution_count": 27,
   "metadata": {},
   "outputs": [
    {
     "name": "stdout",
     "output_type": "stream",
     "text": [
      "   user_id_x    movie_id  rating_13_x  rating_5_x  user_id_y  rating_13_y  \\\n",
      "0          5  1808440470           12           5         10           13   \n",
      "1          5  1808412006           12           5         10            1   \n",
      "\n",
      "   rating_5_y  \n",
      "0           5  \n",
      "1           1  \n",
      "[[nan nan]\n",
      " [nan  1.]]\n"
     ]
    },
    {
     "name": "stderr",
     "output_type": "stream",
     "text": [
      "/home/garvit/anaconda3/lib/python3.6/site-packages/numpy/lib/function_base.py:3183: RuntimeWarning: invalid value encountered in true_divide\n",
      "  c /= stddev[:, None]\n",
      "/home/garvit/anaconda3/lib/python3.6/site-packages/numpy/lib/function_base.py:3184: RuntimeWarning: invalid value encountered in true_divide\n",
      "  c /= stddev[None, :]\n"
     ]
    },
    {
     "data": {
      "text/plain": [
       "nan"
      ]
     },
     "execution_count": 27,
     "metadata": {},
     "output_type": "execute_result"
    }
   ],
   "source": [
    "# for calculating average rating of a user\n",
    "def my_average(user): \n",
    "    temp = ratings[ratings['user_id']==user].rating_5\n",
    "    avg = temp.sum()/temp.count()\n",
    "    return avg\n",
    "\n",
    "# for returning a vector containing all ratings of a user\n",
    "# this is wrong\n",
    "def get_correlation(user1, user2):\n",
    "    user1_data = ratings[ratings['user_id']==user1]\n",
    "    user2_data = ratings[ratings['user_id']==user2]\n",
    "\n",
    "    \n",
    "    s1 = pd.merge(user1_data, user2_data, how='inner', on=['movie_id']) # getting the data for movies rated by both user\n",
    "    print(s1)\n",
    "#     print(s1.rating_5_x.isnull())\n",
    "#     print(s1.rating_5_y.isnull())\n",
    "    t1 = s1.rating_5_x\n",
    "    t2 = s1.rating_5_y\n",
    "#     print(t1, t2)\n",
    "#     s1.fillna(np.nan, inplace=True)\n",
    "    pearson_correlation = t1.corr(t2,  method='pearson')\n",
    "#     print(s1.rating_5_x)\n",
    "#     print(s1.rating_5_y)\n",
    "#     print(s1.rating_5_x)\n",
    "#     print(\"correlation = \",pearson_correlation)\n",
    "    temp_data = pd.DataFrame({'A':[5,5], 'B':[5,1]})\n",
    "    print(np.corrcoef(temp_data.A, temp_data.B))\n",
    "    return pearson_correlation\n",
    "    \n",
    "get_correlation(5,10)\n",
    "# ratings.loc[(ratings['user_id']==8) & (ratings['movie_id']==1800019594)].rating_5"
   ]
  },
  {
   "cell_type": "code",
   "execution_count": 98,
   "metadata": {
    "collapsed": true
   },
   "outputs": [],
   "source": [
    "# For computing correlation between every pair of user\n",
    "# computationally very expensive  :-(\n",
    "# not using\n",
    "user_correlation = dict()\n",
    "for user1 in ratings['user_id'].drop_duplicates():\n",
    "    print(\"started\", user1)\n",
    "    for user2 in ratings['user_id'].drop_duplicates():\n",
    "        user1_data = ratings[ratings['user_id']==user1]\n",
    "        user2_data = ratings[ratings['user_id']==user2]\n",
    "#         print(user1, user2)\n",
    "#         s1 = pd.merge(user1_data, user2_data, how='outer', on=['movie_id']) # getting the data for movies rated by both user\n",
    "#         s1.fillna(0, inplace=True)\n",
    "        # code for merging user1 and user2 data\n",
    "        s1 = pd.DataFrame(columns=['user1', 'user2'])\n",
    "        for movie in user1_data['movie_id']:\n",
    "            temp=user2_data[user2_data['movie_id']==movie].rating_5\n",
    "            temp1 = user1_data[user1_data['movie_id']==movie].rating_5\n",
    "            if(len(temp.index) != 0):\n",
    "                s1 = s1.append({'user1': temp1, 'user2': temp}, ignore_index=True)\n",
    "            else:\n",
    "                s1 = s1.append({'user1': temp1, 'user2': 0}, ignore_index=True)\n",
    "#         pearson_correlation = s1.rating_5_x.corr(s1.rating_5_y)\n",
    "#         print(s1.columns)\n",
    "        pearson_correlation = s1.user1.astype(float).corr(s1.user2.astype(float))    \n",
    "        user_correlation[(user1,user2)] = pearson_correlation\n",
    "print(user_correlation)"
   ]
  },
  {
   "cell_type": "code",
   "execution_count": 11,
   "metadata": {},
   "outputs": [
    {
     "data": {
      "text/plain": [
       "nan"
      ]
     },
     "execution_count": 11,
     "metadata": {},
     "output_type": "execute_result"
    }
   ],
   "source": [
    "# Rough work\n",
    "user1_data = ratings[ratings['user_id']==5]\n",
    "user2_data = ratings[ratings['user_id']==8]\n",
    "# print(user1_data)\n",
    "s1 = pd.merge(user1_data, user2_data, how='outer', on=['movie_id']) # getting the data for movies rated by both user\n",
    "s1.fillna(0, inplace=True)\n",
    "pearson_correlation = s1.rating_5_x.corr(s1.rating_5_y)\n",
    "pearson_correlation\n",
    "user1_data.rating_5.corr(user2_data.rating_5)"
   ]
  },
  {
   "cell_type": "code",
   "execution_count": 12,
   "metadata": {
    "collapsed": true
   },
   "outputs": [],
   "source": [
    "# function to predict rating by user to movie\n",
    "def predict(user, movie): \n",
    "    # calculate the predicted score of movie\n",
    "    numerator = 0\n",
    "    denominator = 0\n",
    "    cnt = 0\n",
    "    for user2 in ratings['user_id'].drop_duplicates():\n",
    "        rate_v_i_series = ratings.loc[(ratings['user_id']==user2) & (ratings['movie_id']==movie)].rating_5 # rating given by user2 to movie\n",
    "        if(rate_v_i_series.empty): # user has not rated the movie\n",
    "            continue\n",
    "        cnt += 1\n",
    "        rate_v_i = rate_v_i_series.iloc[0]\n",
    "        avg_v = my_average(user2) # average rating given by user2\n",
    "        weight = get_correlation(user, user2) # Pearson correlation between user and user2\n",
    "        numerator += (rate_v_i - avg_v)*weight\n",
    "        denominator += weight\n",
    "    rating_i = numerator/denominator + my_average(user) # Predicted rating of movie i\n",
    "    return rating_i        "
   ]
  },
  {
   "cell_type": "code",
   "execution_count": 13,
   "metadata": {
    "collapsed": true
   },
   "outputs": [],
   "source": [
    "# function for finding root mean square error\n",
    "def find_error(test):\n",
    "    error = 0\n",
    "    for index, row in test.iterrows():\n",
    "        value = predict(row['user_id'], row['movie_id'])\n",
    "        error += (value - row['rating_5'])**2\n",
    "    # Mean square error\n",
    "    error = error/test.shape[0]\n",
    "    # root mean square error\n",
    "    return math.sqrt(error)"
   ]
  },
  {
   "cell_type": "code",
   "execution_count": 14,
   "metadata": {},
   "outputs": [
    {
     "data": {
      "text/plain": [
       "(10136, 4)"
      ]
     },
     "execution_count": 14,
     "metadata": {},
     "output_type": "execute_result"
    }
   ],
   "source": [
    "# import test data to pandas dataframe\n",
    "test = pd.read_csv('../Yahoo movies/ydata-ymovies-user-movie-ratings-test-v1_0.txt', sep='\\t', names = ['user_id', 'movie_id', 'rating_13', 'rating_5'])\n",
    "test.shape"
   ]
  },
  {
   "cell_type": "code",
   "execution_count": 15,
   "metadata": {},
   "outputs": [
    {
     "name": "stdout",
     "output_type": "stream",
     "text": [
      "RMSE --->  0.5898688970879378\n"
     ]
    }
   ],
   "source": [
    "print(\"RMSE ---> \", find_error(test.head(1))) # evaluating the model"
   ]
  }
 ],
 "metadata": {
  "kernelspec": {
   "display_name": "Python 3",
   "language": "python",
   "name": "python3"
  },
  "language_info": {
   "codemirror_mode": {
    "name": "ipython",
    "version": 3
   },
   "file_extension": ".py",
   "mimetype": "text/x-python",
   "name": "python",
   "nbconvert_exporter": "python",
   "pygments_lexer": "ipython3",
   "version": "3.6.4"
  }
 },
 "nbformat": 4,
 "nbformat_minor": 2
}
