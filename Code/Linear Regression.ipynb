{
 "cells": [
  {
   "cell_type": "code",
   "execution_count": 67,
   "metadata": {},
   "outputs": [],
   "source": [
    "import pandas as pd\n",
    "import math\n",
    "import numpy as np\n",
    "import math\n",
    "import random\n",
    "from sklearn import datasets, linear_model, metrics\n",
    "from sklearn.cross_validation import train_test_split # to split the dataset for training and testing\n",
    "from sklearn.preprocessing import normalize # to normalize a matrix\n",
    "from sklearn.decomposition import PCA\n",
    "from sklearn.linear_model import SGDRegressor\n",
    "from scipy import linalg"
   ]
  },
  {
   "cell_type": "code",
   "execution_count": 30,
   "metadata": {},
   "outputs": [
    {
     "name": "stdout",
     "output_type": "stream",
     "text": [
      "13\n"
     ]
    }
   ],
   "source": [
    "# getting the ratings data in pandas dataframe\n",
    "ratings = pd.read_csv('../Yahoo_movies_multi-criteria/data_movies.txt', sep='\\t',names=['user_id', 'criterion1', 'criterion2', 'criterion3', 'criterion4', 'overall', 'movie_id', 'num'])\n",
    "print(max(ratings.overall)) # implies that ratings are on a scale of 13\n",
    "# train, test = sample_split(ratings)\n",
    "# print(pd.Series.sort_values(ratings.movie_id).unique())"
   ]
  },
  {
   "cell_type": "code",
   "execution_count": 31,
   "metadata": {
    "collapsed": true
   },
   "outputs": [],
   "source": [
    "# function to crop the dataset such that every item is rated by atleast ri users\n",
    "def min_item_ratings_criteria(ratings, ri):\n",
    "    # remove all items with number of ratings <= ri\n",
    "    temp = ratings.groupby(['movie_id']).overall.count().reset_index()\n",
    "#     print(temp)\n",
    "    items_to_be_removed = temp[temp.overall < ri].movie_id.unique()\n",
    "    print(len(items_to_be_removed))\n",
    "    new_ratings = ratings[~ratings['movie_id'].isin(items_to_be_removed)]\n",
    "    print(len(new_ratings.movie_id.unique()))\n",
    "    return new_ratings\n",
    "# min_item_ratings_criteria(5)"
   ]
  },
  {
   "cell_type": "code",
   "execution_count": 75,
   "metadata": {
    "collapsed": true
   },
   "outputs": [],
   "source": [
    "# function to crop the dataset such that ratings given by any user>=ru\n",
    "def min_user_ratings_criteria(ratings, ru):\n",
    "    # remove all users who have rated <= ru movies\n",
    "    temp = ratings.groupby(['user_id']).overall.count().reset_index()\n",
    "#     print(temp)\n",
    "    users_to_be_removed = temp[temp.overall < ru].user_id.unique()\n",
    "    print(len(users_to_be_removed))\n",
    "    new_ratings = ratings[~ratings['user_id'].isin(users_to_be_removed)]\n",
    "    print(len(new_ratings.user_id.unique()))\n",
    "    return new_ratings\n",
    "#     print(len(users_to_be_removed))\n",
    "# min_ratings_criteria(10,1)"
   ]
  },
  {
   "cell_type": "code",
   "execution_count": 33,
   "metadata": {},
   "outputs": [],
   "source": [
    "# split the datasets into smaller datasets, such that every dataset contains 'size' number of users\n",
    "def split_dataset(ratings, size):\n",
    "        df_group = ratings.groupby(['user_id'])\n",
    "#         print(type(df_group))\n",
    "        \n",
    "        df_group_list = list()\n",
    "        # converting the group of dataframes into list of dataframe for random shuffling\n",
    "        for index, item in df_group:\n",
    "            df_group_list.append(item)\n",
    "        # randomly shuffling the list\n",
    "        random.shuffle(df_group_list)\n",
    "        no_of_datasets = int(len(df_group)/size);\n",
    "#         print(no_of_datasets)\n",
    "        list_datasets = list() # list containing all the small datasets\n",
    "        temp = pd.DataFrame()\n",
    "        count=0\n",
    "        flag=0\n",
    "        datasets_generated = 0 # datasets that have been generated till now\n",
    "        for item in df_group_list:\n",
    "            count+=1\n",
    "            temp = temp.append(item)\n",
    "            if count==size and datasets_generated < no_of_datasets-1:\n",
    "                list_datasets.append(temp)\n",
    "                print(\"size = \",temp.shape[0])\n",
    "#                 print(temp.user_id.unique())\n",
    "                temp = pd.DataFrame()\n",
    "                datasets_generated += 1\n",
    "                count=0\n",
    "        list_datasets.append(temp) # appending the last dataset\n",
    "        print(\"size = \",temp.shape[0])\n",
    "        return list_datasets\n",
    "    \n",
    "# testing above function\n",
    "# temp = split_dataset(ratings, 500)\n",
    "# for item in temp:\n",
    "#     print(len(item.user_id.unique()))"
   ]
  },
  {
   "cell_type": "code",
   "execution_count": 34,
   "metadata": {
    "collapsed": true
   },
   "outputs": [],
   "source": [
    "# Spliting a sample into groups userwise\n",
    "def sample_split(dataFrame):\n",
    "    df_group = dataFrame.groupby('user_id')\n",
    "    train = pd.DataFrame()\n",
    "    test = pd.DataFrame()\n",
    "    \n",
    "    for key, item in df_group:\n",
    "        train, test = split_train_test(item, train, test)\n",
    "    \n",
    "    return train, test"
   ]
  },
  {
   "cell_type": "code",
   "execution_count": 102,
   "metadata": {},
   "outputs": [
    {
     "name": "stdout",
     "output_type": "stream",
     "text": [
      "69\n",
      "907\n",
      "0\n",
      "6078\n",
      "users_left =  6078\n",
      "size =  10582\n",
      "size =  10203\n",
      "size =  9915\n",
      "size =  10397\n",
      "size =  10379\n",
      "size =  10680\n"
     ]
    }
   ],
   "source": [
    "# remove movies with <5 ratings\n",
    "rating_dash = min_item_ratings_criteria(ratings, 5)\n",
    "rating_dash = min_user_ratings_criteria(ratings, 5)\n",
    "print(\"users_left = \",len(rating_dash.user_id.unique()))\n",
    "# remove users who have rated <10 items\n",
    "# rating_dash = min_user_ratings_criteria(rating_dash, 10)\n",
    "# print(len(rating_dash.movie_id.unique()))\n",
    "# list conatining all the datasets\n",
    "list_datasets = split_dataset(rating_dash,1000)\n",
    "# print(list_datasets[1])\n",
    "# print(rating_dash.shape)"
   ]
  },
  {
   "cell_type": "code",
   "execution_count": 36,
   "metadata": {
    "collapsed": true
   },
   "outputs": [],
   "source": [
    "# spliting sample in 70% training data and 30% testing data\n",
    "def split_train_test(dataFrame, train, test):\n",
    "    temp_train, temp_test = train_test_split(dataFrame, test_size = 0.3, random_state=1212)# in this our main data is split into train and test\n",
    "    # the attribute test_size=0.3 splits the data into 70% and 30% ratio. train=70% and test=30%\n",
    "    train = train.append(temp_train)\n",
    "    test = test.append(temp_test)\n",
    "    \n",
    "    return train, test"
   ]
  },
  {
   "cell_type": "code",
   "execution_count": 37,
   "metadata": {},
   "outputs": [
    {
     "name": "stdout",
     "output_type": "stream",
     "text": [
      "6\n",
      "0\n",
      "1\n",
      "2\n",
      "3\n",
      "4\n",
      "5\n"
     ]
    }
   ],
   "source": [
    "# splitting into train and test data\n",
    "train = list()\n",
    "test = list()\n",
    "num_of_datasets = len(list_datasets)\n",
    "print(num_of_datasets)\n",
    "for i in range(num_of_datasets):\n",
    "    print(i)\n",
    "    t1, t2 = sample_split(list_datasets[i])\n",
    "    train.append(t1)\n",
    "    test.append(t2)"
   ]
  },
  {
   "cell_type": "code",
   "execution_count": 103,
   "metadata": {
    "scrolled": true
   },
   "outputs": [
    {
     "name": "stdout",
     "output_type": "stream",
     "text": [
      "532\n",
      "555\n",
      "538\n",
      "582\n",
      "589\n",
      "638\n"
     ]
    }
   ],
   "source": [
    "# applying linear regression on list_datasets[0]\n",
    "# print(list_datasets[0])\n",
    "for i in range(len(list_datasets)):\n",
    "    df = list_datasets[i]\n",
    "    df_group = df.groupby(['user_id'])\n",
    "    count = 0\n",
    "    for key,item in df_group:\n",
    "    #     print(item.shape[0])\n",
    "        # splitting the item in train and test data\n",
    "        train, test = train_test_split(item, test_size = 0.2, random_state=1212)\n",
    "        train_X = train[['criterion1', 'criterion2', 'criterion3', 'criterion4']]\n",
    "        train_y = train.overall\n",
    "        test_X = test[['criterion1', 'criterion2', 'criterion3', 'criterion4']]\n",
    "        test_y = test.overall\n",
    "        # create linear regression object\n",
    "        clf = linear_model.LinearRegression(normalize=True)\n",
    "        # train the model using the training sets\n",
    "        clf.fit(train_X, train_y)\n",
    "        prediction = clf.predict(test_X)\n",
    "        score = clf.score(test_X, test_y)\n",
    "        if(score<=0):\n",
    "    #         print(train,\"\\n\", test)\n",
    "    #         print(prediction)\n",
    "            count+=1\n",
    "    #         print(item.shape[0])\n",
    "    #     print(\"accuracy: \", score)\n",
    "    print(count)\n",
    "#     print(train_X)"
   ]
  }
 ],
 "metadata": {
  "kernelspec": {
   "display_name": "Python 3",
   "language": "python",
   "name": "python3"
  },
  "language_info": {
   "codemirror_mode": {
    "name": "ipython",
    "version": 3
   },
   "file_extension": ".py",
   "mimetype": "text/x-python",
   "name": "python",
   "nbconvert_exporter": "python",
   "pygments_lexer": "ipython3",
   "version": "3.6.3"
  }
 },
 "nbformat": 4,
 "nbformat_minor": 2
}
