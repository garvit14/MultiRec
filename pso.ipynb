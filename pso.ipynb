{
 "cells": [
  {
   "cell_type": "code",
   "execution_count": 16,
   "metadata": {
    "collapsed": true
   },
   "outputs": [],
   "source": [
    "import random"
   ]
  },
  {
   "cell_type": "code",
   "execution_count": 52,
   "metadata": {},
   "outputs": [],
   "source": [
    "def pso(lbound,ubound,swarm_size,max_iter,dimensions,phip,phig,weight):\n",
    "    x=[]            # positon of each particle\n",
    "    x_pbest=[]      # best position of each particle \n",
    "    x_gbest=[]      # best global position of population\n",
    "    v=[]            # velocity of each particle\n",
    "    \n",
    "    # assign initial random positions to the particles\n",
    "    for i in range(swarm_size):\n",
    "        x.append([])\n",
    "        x_pbest.append([])\n",
    "        for j in range(dimensions):\n",
    "            x[i].append(random.uniform(lbound[j],ubound[j]))\n",
    "            x_pbest[i].append(x[i])\n",
    "            \n",
    "    #calculate initial group best of the population\n",
    "    for i in range(swarm_size):\n",
    "        if i==1:\n",
    "            x_gbest=x[i]\n",
    "        elif fitness_func(x[i])<fitness_func(x_gbest):\n",
    "            x_gbest=x[i]\n",
    "            \n",
    "            \n",
    "    r1=random.uniform(0,1)\n",
    "    r2=random.uniform(0,1)\n",
    "    \n",
    "    # calculate minimum and maximum boundaries of velocity vector\n",
    "    for i in range(dimensions):\n",
    "        v_min.append(-(ubound-lbound)/2)\n",
    "        v_max.append((ubound-lbound)/2)\n",
    " \n",
    "    # assign initial random velocities to the particles\n",
    "    for i in range(swarm_size):\n",
    "        v.append([])\n",
    "        for j in range(dimensions):\n",
    "            v[i].append(random.uniform(v_min[j],v_max[j]))\n",
    "            \n",
    "    for iter in range(max_iter):\n",
    "        for i in range(swarm_size):\n",
    "            for j in range(dimensions):\n",
    "                # calculate new velocity for each particle\n",
    "                v[i][j] = weight*v[i][j] + r1*phip*(x_pbest[i][j]-x[i][j]) + r2*phig*(x_gbest[j]-x[i][j])\n",
    "                \n",
    "                if v[i][j] > v_max[j]:\n",
    "                    v[i][j] = v_max[j]\n",
    "                \n",
    "                if v[i][j] < v_min[j]:\n",
    "                    v[i][j] = v_min[j]\n",
    "                \n",
    "                # calculate new position for each particle\n",
    "                x[i][j] = x[i][j] + v[i][j]\n",
    "                \n",
    "                if x[i][j] > ubound[j]:\n",
    "                    x[i][j] = ubound[j]\n",
    "                    \n",
    "                if x[i][j] < lbound[j]:\n",
    "                    x[i][j] = lbound[j]\n",
    "            \n",
    "            if fitness_func(x[i]) < fitness_func(x_pbest[i]):\n",
    "                x_pbest[i] = x[i]\n",
    "                \n",
    "            if fitness_func(x[i]) < fitness_func(x_gbest):\n",
    "                x_gbest = x[i]\n",
    "                \n",
    "    return x_gbest,fitness_func(x_gbest)\n",
    "    "
   ]
  }
 ],
 "metadata": {
  "kernelspec": {
   "display_name": "Python 3",
   "language": "python",
   "name": "python3"
  },
  "language_info": {
   "codemirror_mode": {
    "name": "ipython",
    "version": 3
   },
   "file_extension": ".py",
   "mimetype": "text/x-python",
   "name": "python",
   "nbconvert_exporter": "python",
   "pygments_lexer": "ipython3",
   "version": "3.6.3"
  }
 },
 "nbformat": 4,
 "nbformat_minor": 2
}
